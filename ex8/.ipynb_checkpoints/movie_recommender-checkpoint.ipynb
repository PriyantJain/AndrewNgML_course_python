{
 "cells": [
  {
   "cell_type": "code",
   "execution_count": 55,
   "metadata": {},
   "outputs": [],
   "source": [
    "from scipy.io import loadmat\n",
    "import matplotlib.pyplot as plt\n",
    "import numpy as np\n",
    "from fmincg import fmincg"
   ]
  },
  {
   "cell_type": "code",
   "execution_count": 2,
   "metadata": {},
   "outputs": [],
   "source": [
    "data = loadmat('ex8_movies.mat')\n",
    "Y = data['Y']\n",
    "R = data['R']"
   ]
  },
  {
   "cell_type": "code",
   "execution_count": 3,
   "metadata": {},
   "outputs": [],
   "source": [
    "# average rating for movie 1 (Toy Story): 3.8783185840707963\n",
    "#Y[0,R[0].astype(bool)].mean()"
   ]
  },
  {
   "cell_type": "code",
   "execution_count": 4,
   "metadata": {},
   "outputs": [],
   "source": [
    "############## visualize Y ################\n",
    "#plt.figure()\n",
    "#plt.imshow(Y)\n",
    "#plt.ylabel('Movies')\n",
    "#plt.xlabel('Users')\n",
    "#plt.xticks([])\n",
    "#plt.yticks([])"
   ]
  },
  {
   "cell_type": "code",
   "execution_count": 5,
   "metadata": {},
   "outputs": [],
   "source": [
    "###### loading some data\n",
    "data = loadmat('ex8_movieParams.mat')\n",
    "X = data['X']\n",
    "Theta = data['Theta']\n",
    "num_users = data['num_users']\n",
    "num_movies = data['num_movies']\n",
    "num_features = data['num_features']"
   ]
  },
  {
   "cell_type": "code",
   "execution_count": 6,
   "metadata": {},
   "outputs": [],
   "source": [
    "movie_list = []\n",
    "\n",
    "with open('movie_ids.txt') as file:\n",
    "    for line in file:\n",
    "        movie_list.append(line.strip().split(' ',1)[1])\n",
    "\n",
    "# manual ratings for myself\n",
    "my_ratings = np.zeros((1682,1))\n",
    "my_ratings[0] = 4\n",
    "my_ratings[97] = 2\n",
    "my_ratings[6]  = 3\n",
    "my_ratings[11] = 5\n",
    "my_ratings[53] = 4\n",
    "my_ratings[63] = 5\n",
    "my_ratings[65] = 3\n",
    "my_ratings[68] = 5\n",
    "my_ratings[182] = 4\n",
    "my_ratings[225] = 5\n",
    "my_ratings[354] = 5\n",
    "\n"
   ]
  },
  {
   "cell_type": "code",
   "execution_count": 56,
   "metadata": {},
   "outputs": [],
   "source": [
    "############### defining functions #################\n",
    "def reshape(X, shape):\n",
    "    return X.T.reshape(np.array(shape)[::-1]).T\n",
    "\n",
    "def cofiCostFunc(params, Y, R, num_users, num_movies, num_features, lamda):\n",
    "    '''\n",
    "    Returns cost and gradient for movie recommender system\n",
    "    \n",
    "    Arguments:\n",
    "    -------------\n",
    "    params : flattened X, Theta in one vertical array\n",
    "    Y : rating matrix, each column for 1 movie\n",
    "    R : matrix with 1 for places where we have rating and 0 for not rated\n",
    "    num_users : number of users\n",
    "    num_movies : number of movies\n",
    "    num_features : number of features\n",
    "    lamda : regularization parameter for L2 regularization\n",
    "    \n",
    "    Returns:\n",
    "    ----------\n",
    "    J : cost for current params, Y, R\n",
    "    grad : gradient for current params, Y, R\n",
    "    '''\n",
    "    \n",
    "    X = reshape(params[:num_movies * num_features], (num_movies, num_features))\n",
    "    Theta = reshape(params[num_movies * num_features:], (num_users, num_features))\n",
    "    \n",
    "    yerr = X @ Theta.T - Y\n",
    "    yerr[R == 0] = 0\n",
    "    yerr_partial = yerr[R == 1]\n",
    "    \n",
    "    J = (yerr_partial @ yerr_partial.T)/2 + (lamda * (X.ravel() @ X.ravel().T + Theta.ravel() @ Theta.ravel().T))/2\n",
    "    Xgrad = yerr @ Theta + lamda * X\n",
    "    Theta_grad = yerr.T @ X + lamda * Theta\n",
    "    return J, np.vstack((reshape(Xgrad, (-1,1)), reshape(Theta_grad, (-1,1))))\n",
    "\n",
    "def normalize(Y, R):\n",
    "    mean = np.average(Y, 1, R).reshape(-1, 1)\n",
    "    Ynorm = Y - mean\n",
    "    Ynorm[R == 0] = 0\n",
    "    return Ynorm, mean"
   ]
  },
  {
   "cell_type": "code",
   "execution_count": 11,
   "metadata": {},
   "outputs": [],
   "source": [
    "# creating subset for testing functions working\n",
    "num_users = 4\n",
    "num_movies = 5\n",
    "num_features = 3\n",
    "\n",
    "X = X[:num_movies, :num_features]\n",
    "Theta = Theta[:num_users, :num_features]\n",
    "Y = Y[:num_movies, :num_users]\n",
    "R = R[:num_movies, :num_users]\n",
    "\n",
    "\n",
    "# lamda = 0\n",
    "# J = 22.2246038\n",
    "# array([[-2.52899165], [-0.56819597], [-0.83240713], [-0.38358278], [-0.80378006], [7.57570308], [3.35265031], [4.91163297], ...\n",
    "# cofiCostFunc(np.vstack((reshape(X, (-1,1)), reshape(Theta, (-1,1)))), Y, R, num_users, num_movies, num_features, 0)"
   ]
  },
  {
   "cell_type": "code",
   "execution_count": 12,
   "metadata": {},
   "outputs": [],
   "source": [
    "# lamda = 1.5\n",
    "# J = 31.34405624427422\n",
    "# array([[-0.95596339], [0.60308088], [0.12985616], [0.29684395], [0.60252677], [6.97535514], [2.77421145], [4.0898522], ...\n",
    "# cofiCostFunc(np.vstack((reshape(X, (-1,1)), reshape(Theta, (-1,1)))), Y, R, num_users, num_movies, num_features, 1.5)"
   ]
  },
  {
   "cell_type": "code",
   "execution_count": 37,
   "metadata": {},
   "outputs": [],
   "source": []
  },
  {
   "cell_type": "code",
   "execution_count": 15,
   "metadata": {},
   "outputs": [],
   "source": [
    "# loading another dataset and merging our ratings with it\n",
    "data = loadmat('ex8_movies.mat')\n",
    "Y = np.hstack(( my_ratings, data['Y']))\n",
    "R = np.hstack((my_ratings != 0, data['R']))"
   ]
  },
  {
   "cell_type": "code",
   "execution_count": 58,
   "metadata": {},
   "outputs": [],
   "source": [
    "# normalizing Y and extracting some variable values and initializing X, Theta\n",
    "Ynorm, Ymean = normalize(Y, R)\n",
    "\n",
    "num_users = Y.shape[1]\n",
    "num_movies = Y.shape[0]\n",
    "num_features = 10\n",
    "\n",
    "X = np.random.randn(num_movies, num_features)\n",
    "Theta = np.random.randn(num_users, num_features)\n",
    "\n",
    "init_param = np.vstack((reshape(X, (-1, 1)), reshape(Theta, (-1, 1))))\n",
    "lamda = 10\n",
    "options = {'GradObj' : 'on', 'maxiter' : 100}"
   ]
  },
  {
   "cell_type": "code",
   "execution_count": 62,
   "metadata": {},
   "outputs": [],
   "source": [
    "# training parameters\n",
    "final_params, *_ = fmincg(lambda parameters : cofiCostFunc(parameters, Ynorm, R, num_users, num_movies, num_features, lamda),\n",
    "                          init_param, options)\n",
    "\n",
    "X_optim = reshape(final_params[:num_movies * num_features], (num_movies, num_features))\n",
    "Theta_optim = reshape(final_params[num_movies * num_features:], (num_users, num_features))"
   ]
  },
  {
   "cell_type": "code",
   "execution_count": 71,
   "metadata": {},
   "outputs": [],
   "source": [
    "# predictions for my_ratings\n",
    "pred = X @ Theta.T\n",
    "pred = pred[:,0:1] + Ymean"
   ]
  },
  {
   "cell_type": "code",
   "execution_count": 93,
   "metadata": {
    "scrolled": true
   },
   "outputs": [
    {
     "name": "stdout",
     "output_type": "stream",
     "text": [
      "['Two Deaths (1995)' 'Man from Down Under, The (1943)'\n",
      " 'Somebody to Love (1994)' 'Nightwatch (1997)' 'Tom and Huck (1995)'\n",
      " 'Body Parts (1991)' 'Ill Gotten Gains (1997)' 'Bonheur, Le (1965)'\n",
      " 'Stranger in the House (1997)' 'Stag (1997)']\n"
     ]
    }
   ],
   "source": [
    "# top 10 movies for my_prediction\n",
    "topten = np.array(movie_list)[np.argsort(pred.ravel())[:10]]\n",
    "print(topten)"
   ]
  },
  {
   "cell_type": "code",
   "execution_count": null,
   "metadata": {},
   "outputs": [],
   "source": []
  },
  {
   "cell_type": "code",
   "execution_count": null,
   "metadata": {},
   "outputs": [],
   "source": []
  }
 ],
 "metadata": {
  "kernelspec": {
   "display_name": "Python 3",
   "language": "python",
   "name": "python3"
  },
  "language_info": {
   "codemirror_mode": {
    "name": "ipython",
    "version": 3
   },
   "file_extension": ".py",
   "mimetype": "text/x-python",
   "name": "python",
   "nbconvert_exporter": "python",
   "pygments_lexer": "ipython3",
   "version": "3.7.6"
  }
 },
 "nbformat": 4,
 "nbformat_minor": 4
}
