{
 "cells": [
  {
   "cell_type": "code",
   "execution_count": 1,
   "metadata": {},
   "outputs": [],
   "source": [
    "import numpy as np\n",
    "import matplotlib.pyplot as plt\n",
    "from fmincg import fmincg"
   ]
  },
  {
   "cell_type": "markdown",
   "metadata": {},
   "source": [
    "# Import data"
   ]
  },
  {
   "cell_type": "code",
   "execution_count": 2,
   "metadata": {},
   "outputs": [],
   "source": [
    "data = np.genfromtxt(\"ex2data1.txt\",delimiter=',')"
   ]
  },
  {
   "cell_type": "code",
   "execution_count": 3,
   "metadata": {},
   "outputs": [],
   "source": [
    "m=len(data)\n",
    "X = np.hstack((np.ones((m,1)),data[:,:-1]))\n",
    "y = data[:,-1].reshape(-1,1)"
   ]
  },
  {
   "cell_type": "code",
   "execution_count": 4,
   "metadata": {},
   "outputs": [
    {
     "data": {
      "text/plain": [
       "<matplotlib.legend.Legend at 0x1edc5a87c08>"
      ]
     },
     "execution_count": 4,
     "metadata": {},
     "output_type": "execute_result"
    },
    {
     "data": {
      "image/png": "[encoded data removed]",
      "text/plain": [
       "<Figure size 432x288 with 1 Axes>"
      ]
     },
     "metadata": {
      "needs_background": "light"
     },
     "output_type": "display_data"
    }
   ],
   "source": [
    "#plotting the data\n",
    "plt.figure()\n",
    "yf =y.flatten()\n",
    "plt.plot(X[yf==0][:,2],X[yf==0][:,1],'bo',label = 'y=0')\n",
    "plt.plot(X[yf==1][:,2],X[yf==1][:,1],'b+',label = 'y=1')\n",
    "plt.legend()"
   ]
  },
  {
   "cell_type": "markdown",
   "metadata": {},
   "source": [
    "# defining functions "
   ]
  },
  {
   "cell_type": "code",
   "execution_count": 5,
   "metadata": {},
   "outputs": [],
   "source": [
    "def sigmoid(z):\n",
    "    return 1/(1+np.e**-z)"
   ]
  },
  {
   "cell_type": "code",
   "execution_count": 6,
   "metadata": {},
   "outputs": [],
   "source": [
    "def CostGrad(initial_theta, X, y):\n",
    "    initial_theta = initial_theta.reshape((-1,1))\n",
    "    y = y.reshape((-1,1))\n",
    "    #print(np.shape(X) , (initial_theta))\n",
    "    h = sigmoid(X@initial_theta)\n",
    "    J = (-1/m)*(y.T @ np.log(h) + (1-y).T @np.log(1-h))\n",
    "    grad = (1/m) * (X.T @(h-y))\n",
    "    return J.item(),grad"
   ]
  },
  {
   "cell_type": "code",
   "execution_count": 7,
   "metadata": {},
   "outputs": [],
   "source": [
    "#testing\n",
    "#sigmoid(np.array([1,2]))\n",
    "#CostGrad(np.array([-24,0.2,0.2]),X,y)\n",
    "#(0.2183301938265977, np.array([[0.04290299, 2.56623412, 2.64679737]]).T)"
   ]
  },
  {
   "cell_type": "code",
   "execution_count": 8,
   "metadata": {},
   "outputs": [],
   "source": [
    "options = {'GradObj':'on','maxiter':400}\n",
    "fmincgcost = lambda initheta : CostGrad(initheta,X,y)"
   ]
  },
  {
   "cell_type": "code",
   "execution_count": 9,
   "metadata": {},
   "outputs": [],
   "source": [
    "initial_theta = np.zeros((X.shape[1],1))"
   ]
  },
  {
   "cell_type": "code",
   "execution_count": 10,
   "metadata": {},
   "outputs": [
    {
     "name": "stderr",
     "output_type": "stream",
     "text": [
      "E:\\Priyant\\ML_andrew\\python implementaton\\ex2\\fmincg.py:136: RuntimeWarning: invalid value encountered in sqrt\n",
      "  z2 = -np.dot(np.dot(d2,z3),z3)/(B+np.sqrt(np.dot(B,B)-np.dot(np.dot(np.dot(A,d2),z3),z3)))        # num. error possible - ok!\n"
     ]
    }
   ],
   "source": [
    "theta, Jrec, *_ = fmincg(fmincgcost,initial_theta,options)"
   ]
  },
  {
   "cell_type": "code",
   "execution_count": 15,
   "metadata": {},
   "outputs": [
    {
     "data": {
      "text/plain": [
       "<matplotlib.legend.Legend at 0x1edc67d6ec8>"
      ]
     },
     "execution_count": 15,
     "metadata": {},
     "output_type": "execute_result"
    },
    {
     "data": {
      "image/png": "[encoded data removed]",
      "text/plain": [
       "<Figure size 432x288 with 1 Axes>"
      ]
     },
     "metadata": {
      "needs_background": "light"
     },
     "output_type": "display_data"
    }
   ],
   "source": [
    "#plotting descision boundary\n",
    "plt.figure()\n",
    "yf =y.flatten()\n",
    "plt.plot(X[yf==0][:,2],X[yf==0][:,1],'bo',label = 'y=0')\n",
    "plt.plot(X[yf==1][:,2],X[yf==1][:,1],'b+',label = 'y=1')\n",
    "\n",
    "x1 = np.linspace(X.min(0)[1],X.max(0)[1],50)\n",
    "x2 = (-theta[0]-theta[1]*x1)/theta[2]\n",
    "plt.plot(x1,x2,label = 'descision boundary')\n",
    "plt.title('Logistic regression')\n",
    "plt.legend()"
   ]
  },
  {
   "cell_type": "code",
   "execution_count": 16,
   "metadata": {},
   "outputs": [
    {
     "data": {
      "text/plain": [
       "0.89"
      ]
     },
     "execution_count": 16,
     "metadata": {},
     "output_type": "execute_result"
    }
   ],
   "source": [
    "#train accuracy around 89%\n",
    "np.mean((X@theta > 0)==y)"
   ]
  },
  {
   "cell_type": "code",
   "execution_count": null,
   "metadata": {},
   "outputs": [],
   "source": []
  }
 ],
 "metadata": {
  "kernelspec": {
   "display_name": "Python 3",
   "language": "python",
   "name": "python3"
  },
  "language_info": {
   "codemirror_mode": {
    "name": "ipython",
    "version": 3
   },
   "file_extension": ".py",
   "mimetype": "text/x-python",
   "name": "python",
   "nbconvert_exporter": "python",
   "pygments_lexer": "ipython3",
   "version": "3.7.6"
  }
 },
 "nbformat": 4,
 "nbformat_minor": 4
}
