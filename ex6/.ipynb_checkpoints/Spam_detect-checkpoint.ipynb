{
 "cells": [
  {
   "cell_type": "markdown",
   "metadata": {},
   "source": [
    "# we will handle it pythonic way as its not possible now to translate code"
   ]
  },
  {
   "cell_type": "code",
   "execution_count": 1,
   "metadata": {},
   "outputs": [],
   "source": [
    "import re\n",
    "import nltk\n",
    "import numpy as np\n",
    "from scipy.io import loadmat\n",
    "from sklearn.svm import SVC"
   ]
  },
  {
   "cell_type": "code",
   "execution_count": 2,
   "metadata": {},
   "outputs": [],
   "source": [
    "vocabulary = {0: 'unknown'}\n",
    "vocabulary_r = {0: 'unknown'}\n",
    "with open('vocab.txt') as file:\n",
    "    for line in file:\n",
    "        vocabulary[int(line.split()[0])] = line.split()[1]\n",
    "        vocabulary_r[line.split()[1]] = int(line.split()[0])    #reverse mapping of vocabulary\n",
    "\n",
    "        \n",
    "data = loadmat('spamTrain.mat')\n",
    "Xtrain = data['X']\n",
    "ytrain = data['y']\n",
    "\n",
    "data = loadmat('spamTest.mat')\n",
    "Xval = data['Xtest']\n",
    "yval = data['ytest']"
   ]
  },
  {
   "cell_type": "code",
   "execution_count": 3,
   "metadata": {},
   "outputs": [],
   "source": [
    "def processEmail(text):\n",
    "    '''preprocesses email to remove unnecesary components like links, signs and returns index list'''\n",
    "    text = text.strip().lower()\n",
    "    text = re.sub('<[^<>]+>', ' ', text)     # Strips all HTML tags\n",
    "    text = re.sub('[0-9]+', 'number', text)   #Handle Numbers\n",
    "    text = re.sub('(http|https)://[^\\s]*', 'httpaddr', text)    #Handle URLS\n",
    "    text = re.sub('[^\\s]+@[^\\s]+', 'emailaddr', text)    #Handle Email Addresses\n",
    "    text = re.sub('[$]+', 'dollar', text)    #Handle $ sign\n",
    "    text = re.sub('\\n', ' ', text)\n",
    "    flag = 0\n",
    "    for c in ' @$/#.-:&*+=[]?!(){},''\">_<;%':\n",
    "        text = text.replace(c, ' ')\n",
    "    \n",
    "    ps = nltk.stem.PorterStemmer()\n",
    "    index_list = [vocabulary_r.get(ps.stem(word),0) for word in text.split()]\n",
    "    return index_list\n",
    "\n",
    "def readmail(mailfile):\n",
    "    '''read contents of mail from mailfile'''\n",
    "    with open(mailfile) as file:\n",
    "        file_contents = file.read()\n",
    "    return file_contents"
   ]
  },
  {
   "cell_type": "code",
   "execution_count": 4,
   "metadata": {},
   "outputs": [],
   "source": [
    "ind_list = processEmail(readmail('emailSample1.txt'))\n",
    "features = np.zeros(1900)\n",
    "features[ind_list] = 1\n",
    "c = 0.1"
   ]
  },
  {
   "cell_type": "code",
   "execution_count": 5,
   "metadata": {
    "scrolled": true
   },
   "outputs": [],
   "source": [
    "svm_model = SVC(c, 'linear').fit(Xtrain, ytrain.ravel())"
   ]
  },
  {
   "cell_type": "code",
   "execution_count": 6,
   "metadata": {},
   "outputs": [
    {
     "data": {
      "text/plain": [
       "99.825"
      ]
     },
     "execution_count": 6,
     "metadata": {},
     "output_type": "execute_result"
    }
   ],
   "source": [
    "ytrain_pred = svm_model.predict(Xtrain)\n",
    "# train = 99.825%\n",
    "np.mean(ytrain_pred == ytrain.ravel()) * 100"
   ]
  },
  {
   "cell_type": "code",
   "execution_count": 7,
   "metadata": {},
   "outputs": [
    {
     "data": {
      "text/plain": [
       "98.9"
      ]
     },
     "execution_count": 7,
     "metadata": {},
     "output_type": "execute_result"
    }
   ],
   "source": [
    "yval_pred = svm_model.predict(Xval)\n",
    "# val = 98.9%\n",
    "np.mean(yval_pred == yval.ravel()) * 100"
   ]
  },
  {
   "cell_type": "code",
   "execution_count": 8,
   "metadata": {},
   "outputs": [
    {
     "name": "stdout",
     "output_type": "stream",
     "text": [
      "our \t 0.5006137361746403\n",
      "click \t 0.46591639068888796\n",
      "remov \t 0.4228691170610412\n",
      "guarante \t 0.3836216017940651\n",
      "visit \t 0.367710398245535\n",
      "basenumb \t 0.3450640979461706\n",
      "dollar \t 0.3236320357963838\n",
      "will \t 0.2697241060373996\n",
      "price \t 0.2672977146177069\n",
      "pleas \t 0.26116888670014904\n",
      "most \t 0.2572981979518163\n",
      "nbsp \t 0.2539414551595328\n",
      "lo \t 0.25346652431419936\n",
      "ga \t 0.2482969904556866\n",
      "hour \t 0.24640435783158998\n"
     ]
    }
   ],
   "source": [
    "# top 15 important words are ...\n",
    "imp_index = svm_model.coef_.argsort()[0,::-1]\n",
    "for i in range(0, 15):\n",
    "    print(vocabulary[imp_index[i] + 1], '\\t', svm_model.coef_[0, imp_index[i]])"
   ]
  },
  {
   "cell_type": "code",
   "execution_count": 37,
   "metadata": {},
   "outputs": [
    {
     "name": "stdout",
     "output_type": "stream",
     "text": [
      "[1]\n"
     ]
    }
   ],
   "source": [
    "ind_list = processEmail(readmail('spamSample1.txt'))\n",
    "features = np.zeros(1900)\n",
    "features[ind_list] = 1\n",
    "p = svm_model.predict(features[1:].reshape(1,-1))\n",
    "print(p)"
   ]
  },
  {
   "cell_type": "code",
   "execution_count": null,
   "metadata": {
    "scrolled": true
   },
   "outputs": [],
   "source": []
  },
  {
   "cell_type": "code",
   "execution_count": null,
   "metadata": {},
   "outputs": [],
   "source": []
  },
  {
   "cell_type": "code",
   "execution_count": null,
   "metadata": {},
   "outputs": [],
   "source": []
  }
 ],
 "metadata": {
  "kernelspec": {
   "display_name": "Python 3",
   "language": "python",
   "name": "python3"
  },
  "language_info": {
   "codemirror_mode": {
    "name": "ipython",
    "version": 3
   },
   "file_extension": ".py",
   "mimetype": "text/x-python",
   "name": "python",
   "nbconvert_exporter": "python",
   "pygments_lexer": "ipython3",
   "version": "3.7.6"
  }
 },
 "nbformat": 4,
 "nbformat_minor": 4
}
